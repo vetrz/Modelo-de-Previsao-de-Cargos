{
 "cells": [
  {
   "cell_type": "code",
   "execution_count": 3,
   "id": "2ec2ceb3",
   "metadata": {},
   "outputs": [],
   "source": [
    "import pandas as pd\n",
    "import numpy as np\n",
    "import matplotlib.pyplot as plt\n",
    "import seaborn as sns\n",
    "from wordcloud import WordCloud"
   ]
  },
  {
   "cell_type": "code",
   "execution_count": 4,
   "id": "f4d1baff",
   "metadata": {},
   "outputs": [],
   "source": [
    "df = pd.read_excel(\"../data/sods.xlsx\")"
   ]
  },
  {
   "cell_type": "code",
   "execution_count": 5,
   "id": "c845dbd9",
   "metadata": {},
   "outputs": [
    {
     "data": {
      "text/html": [
       "<div>\n",
       "<style scoped>\n",
       "    .dataframe tbody tr th:only-of-type {\n",
       "        vertical-align: middle;\n",
       "    }\n",
       "\n",
       "    .dataframe tbody tr th {\n",
       "        vertical-align: top;\n",
       "    }\n",
       "\n",
       "    .dataframe thead th {\n",
       "        text-align: right;\n",
       "    }\n",
       "</style>\n",
       "<table border=\"1\" class=\"dataframe\">\n",
       "  <thead>\n",
       "    <tr style=\"text-align: right;\">\n",
       "      <th></th>\n",
       "      <th>idade</th>\n",
       "      <th>genero</th>\n",
       "      <th>etnia</th>\n",
       "      <th>pcd</th>\n",
       "      <th>vive_no_brasil</th>\n",
       "      <th>estado_moradia</th>\n",
       "      <th>nivel_ensino</th>\n",
       "      <th>formacao</th>\n",
       "      <th>tempo_experiencia_dados</th>\n",
       "      <th>linguagens_preferidas</th>\n",
       "      <th>bancos_de_dados</th>\n",
       "      <th>cloud_preferida</th>\n",
       "      <th>cargo</th>\n",
       "    </tr>\n",
       "  </thead>\n",
       "  <tbody>\n",
       "    <tr>\n",
       "      <th>0</th>\n",
       "      <td>39.0</td>\n",
       "      <td>Masculino</td>\n",
       "      <td>Parda</td>\n",
       "      <td>Não</td>\n",
       "      <td>True</td>\n",
       "      <td>Distrito Federal (DF)</td>\n",
       "      <td>Pós-graduação</td>\n",
       "      <td>Computação / Engenharia de Software / Sistemas...</td>\n",
       "      <td>de 1 a 2 anos</td>\n",
       "      <td>R</td>\n",
       "      <td>PostgreSQL, Oracle, MySQL, SQL SERVER</td>\n",
       "      <td>Amazon Web Services (AWS)</td>\n",
       "      <td>DBA/Administrador de Banco de Dados</td>\n",
       "    </tr>\n",
       "    <tr>\n",
       "      <th>1</th>\n",
       "      <td>32.0</td>\n",
       "      <td>Masculino</td>\n",
       "      <td>Parda</td>\n",
       "      <td>Não</td>\n",
       "      <td>True</td>\n",
       "      <td>Pará (PA)</td>\n",
       "      <td>Graduação/Bacharelado</td>\n",
       "      <td>Outras Engenharias</td>\n",
       "      <td>de 3 a 4 anos</td>\n",
       "      <td>NaN</td>\n",
       "      <td>NaN</td>\n",
       "      <td>NaN</td>\n",
       "      <td>NaN</td>\n",
       "    </tr>\n",
       "    <tr>\n",
       "      <th>2</th>\n",
       "      <td>53.0</td>\n",
       "      <td>Masculino</td>\n",
       "      <td>Branca</td>\n",
       "      <td>Não</td>\n",
       "      <td>True</td>\n",
       "      <td>Distrito Federal (DF)</td>\n",
       "      <td>Pós-graduação</td>\n",
       "      <td>Computação / Engenharia de Software / Sistemas...</td>\n",
       "      <td>de 3 a 4 anos</td>\n",
       "      <td>Python</td>\n",
       "      <td>PostgreSQL, MySQL, Oracle, DB2</td>\n",
       "      <td>Amazon Web Services (AWS)</td>\n",
       "      <td>Desenvolvedor/ Engenheiro de Software/ Analist...</td>\n",
       "    </tr>\n",
       "    <tr>\n",
       "      <th>3</th>\n",
       "      <td>27.0</td>\n",
       "      <td>Masculino</td>\n",
       "      <td>Branca</td>\n",
       "      <td>Não</td>\n",
       "      <td>True</td>\n",
       "      <td>Minas Gerais (MG)</td>\n",
       "      <td>Doutorado ou Phd</td>\n",
       "      <td>Estatística/ Matemática / Matemática Computaci...</td>\n",
       "      <td>de 4 a 6 anos</td>\n",
       "      <td>Python</td>\n",
       "      <td>Google BigQuery</td>\n",
       "      <td>Não sei opinar</td>\n",
       "      <td>Cientista de Dados/Data Scientist</td>\n",
       "    </tr>\n",
       "    <tr>\n",
       "      <th>4</th>\n",
       "      <td>46.0</td>\n",
       "      <td>Feminino</td>\n",
       "      <td>Branca</td>\n",
       "      <td>Não</td>\n",
       "      <td>True</td>\n",
       "      <td>Pará (PA)</td>\n",
       "      <td>Pós-graduação</td>\n",
       "      <td>Computação / Engenharia de Software / Sistemas...</td>\n",
       "      <td>Não tenho experiência na área de dados</td>\n",
       "      <td>Python</td>\n",
       "      <td>Microsoft Access</td>\n",
       "      <td>Amazon Web Services (AWS)</td>\n",
       "      <td>Desenvolvedor/ Engenheiro de Software/ Analist...</td>\n",
       "    </tr>\n",
       "  </tbody>\n",
       "</table>\n",
       "</div>"
      ],
      "text/plain": [
       "   idade     genero   etnia  pcd  vive_no_brasil         estado_moradia  \\\n",
       "0   39.0  Masculino   Parda  Não            True  Distrito Federal (DF)   \n",
       "1   32.0  Masculino   Parda  Não            True              Pará (PA)   \n",
       "2   53.0  Masculino  Branca  Não            True  Distrito Federal (DF)   \n",
       "3   27.0  Masculino  Branca  Não            True      Minas Gerais (MG)   \n",
       "4   46.0   Feminino  Branca  Não            True              Pará (PA)   \n",
       "\n",
       "            nivel_ensino                                           formacao  \\\n",
       "0          Pós-graduação  Computação / Engenharia de Software / Sistemas...   \n",
       "1  Graduação/Bacharelado                                 Outras Engenharias   \n",
       "2          Pós-graduação  Computação / Engenharia de Software / Sistemas...   \n",
       "3       Doutorado ou Phd  Estatística/ Matemática / Matemática Computaci...   \n",
       "4          Pós-graduação  Computação / Engenharia de Software / Sistemas...   \n",
       "\n",
       "                  tempo_experiencia_dados linguagens_preferidas  \\\n",
       "0                           de 1 a 2 anos                     R   \n",
       "1                           de 3 a 4 anos                   NaN   \n",
       "2                           de 3 a 4 anos                Python   \n",
       "3                           de 4 a 6 anos                Python   \n",
       "4  Não tenho experiência na área de dados                Python   \n",
       "\n",
       "                         bancos_de_dados            cloud_preferida  \\\n",
       "0  PostgreSQL, Oracle, MySQL, SQL SERVER  Amazon Web Services (AWS)   \n",
       "1                                    NaN                        NaN   \n",
       "2         PostgreSQL, MySQL, Oracle, DB2  Amazon Web Services (AWS)   \n",
       "3                        Google BigQuery             Não sei opinar   \n",
       "4                       Microsoft Access  Amazon Web Services (AWS)   \n",
       "\n",
       "                                               cargo  \n",
       "0                DBA/Administrador de Banco de Dados  \n",
       "1                                                NaN  \n",
       "2  Desenvolvedor/ Engenheiro de Software/ Analist...  \n",
       "3                  Cientista de Dados/Data Scientist  \n",
       "4  Desenvolvedor/ Engenheiro de Software/ Analist...  "
      ]
     },
     "execution_count": 5,
     "metadata": {},
     "output_type": "execute_result"
    }
   ],
   "source": [
    "df.head(5)"
   ]
  },
  {
   "cell_type": "markdown",
   "id": "3f5f8f41",
   "metadata": {},
   "source": [
    "Tirando informações do dataframe"
   ]
  },
  {
   "cell_type": "code",
   "execution_count": 6,
   "id": "6a6db0f0",
   "metadata": {},
   "outputs": [
    {
     "data": {
      "text/html": [
       "<div>\n",
       "<style scoped>\n",
       "    .dataframe tbody tr th:only-of-type {\n",
       "        vertical-align: middle;\n",
       "    }\n",
       "\n",
       "    .dataframe tbody tr th {\n",
       "        vertical-align: top;\n",
       "    }\n",
       "\n",
       "    .dataframe thead th {\n",
       "        text-align: right;\n",
       "    }\n",
       "</style>\n",
       "<table border=\"1\" class=\"dataframe\">\n",
       "  <thead>\n",
       "    <tr style=\"text-align: right;\">\n",
       "      <th></th>\n",
       "      <th>idade</th>\n",
       "    </tr>\n",
       "  </thead>\n",
       "  <tbody>\n",
       "    <tr>\n",
       "      <th>count</th>\n",
       "      <td>4197.000000</td>\n",
       "    </tr>\n",
       "    <tr>\n",
       "      <th>mean</th>\n",
       "      <td>31.169168</td>\n",
       "    </tr>\n",
       "    <tr>\n",
       "      <th>std</th>\n",
       "      <td>6.902803</td>\n",
       "    </tr>\n",
       "    <tr>\n",
       "      <th>min</th>\n",
       "      <td>18.000000</td>\n",
       "    </tr>\n",
       "    <tr>\n",
       "      <th>25%</th>\n",
       "      <td>26.000000</td>\n",
       "    </tr>\n",
       "    <tr>\n",
       "      <th>50%</th>\n",
       "      <td>30.000000</td>\n",
       "    </tr>\n",
       "    <tr>\n",
       "      <th>75%</th>\n",
       "      <td>35.000000</td>\n",
       "    </tr>\n",
       "    <tr>\n",
       "      <th>max</th>\n",
       "      <td>54.000000</td>\n",
       "    </tr>\n",
       "  </tbody>\n",
       "</table>\n",
       "</div>"
      ],
      "text/plain": [
       "             idade\n",
       "count  4197.000000\n",
       "mean     31.169168\n",
       "std       6.902803\n",
       "min      18.000000\n",
       "25%      26.000000\n",
       "50%      30.000000\n",
       "75%      35.000000\n",
       "max      54.000000"
      ]
     },
     "execution_count": 6,
     "metadata": {},
     "output_type": "execute_result"
    }
   ],
   "source": [
    "df.describe()"
   ]
  },
  {
   "cell_type": "code",
   "execution_count": 7,
   "id": "323919e9",
   "metadata": {},
   "outputs": [
    {
     "name": "stdout",
     "output_type": "stream",
     "text": [
      "<class 'pandas.core.frame.DataFrame'>\n",
      "RangeIndex: 4271 entries, 0 to 4270\n",
      "Data columns (total 13 columns):\n",
      " #   Column                   Non-Null Count  Dtype  \n",
      "---  ------                   --------------  -----  \n",
      " 0   idade                    4197 non-null   float64\n",
      " 1   genero                   4262 non-null   object \n",
      " 2   etnia                    4271 non-null   object \n",
      " 3   pcd                      4271 non-null   object \n",
      " 4   vive_no_brasil           4271 non-null   bool   \n",
      " 5   estado_moradia           4156 non-null   object \n",
      " 6   nivel_ensino             4271 non-null   object \n",
      " 7   formacao                 4149 non-null   object \n",
      " 8   tempo_experiencia_dados  3694 non-null   object \n",
      " 9   linguagens_preferidas    2979 non-null   object \n",
      " 10  bancos_de_dados          2978 non-null   object \n",
      " 11  cloud_preferida          2981 non-null   object \n",
      " 12  cargo                    2981 non-null   object \n",
      "dtypes: bool(1), float64(1), object(11)\n",
      "memory usage: 404.7+ KB\n"
     ]
    }
   ],
   "source": [
    "df.info()"
   ]
  },
  {
   "cell_type": "code",
   "execution_count": 8,
   "id": "155650c2",
   "metadata": {},
   "outputs": [
    {
     "data": {
      "text/plain": [
       "idade                        74\n",
       "genero                        9\n",
       "etnia                         0\n",
       "pcd                           0\n",
       "vive_no_brasil                0\n",
       "estado_moradia              115\n",
       "nivel_ensino                  0\n",
       "formacao                    122\n",
       "tempo_experiencia_dados     577\n",
       "linguagens_preferidas      1292\n",
       "bancos_de_dados            1293\n",
       "cloud_preferida            1290\n",
       "cargo                      1290\n",
       "dtype: int64"
      ]
     },
     "execution_count": 8,
     "metadata": {},
     "output_type": "execute_result"
    }
   ],
   "source": [
    "df.isnull().sum()"
   ]
  },
  {
   "cell_type": "markdown",
   "id": "b81564f7",
   "metadata": {},
   "source": [
    "Colocando 'Prefiro não informar' nos dados da coluna genero com NaN"
   ]
  },
  {
   "cell_type": "code",
   "execution_count": 9,
   "id": "32d06941",
   "metadata": {},
   "outputs": [],
   "source": [
    "df['genero'] = df['genero'].fillna('Prefiro não informar')"
   ]
  },
  {
   "cell_type": "markdown",
   "id": "c822b5ef",
   "metadata": {},
   "source": [
    "Analisando a idade media geral por genero"
   ]
  },
  {
   "cell_type": "code",
   "execution_count": 10,
   "id": "f4fd8bc8",
   "metadata": {},
   "outputs": [
    {
     "data": {
      "text/plain": [
       "np.float64(31.169168453657374)"
      ]
     },
     "execution_count": 10,
     "metadata": {},
     "output_type": "execute_result"
    }
   ],
   "source": [
    "df['idade'].mean()"
   ]
  },
  {
   "cell_type": "code",
   "execution_count": 11,
   "id": "a9e84152",
   "metadata": {},
   "outputs": [
    {
     "data": {
      "text/plain": [
       "genero\n",
       "Feminino                31.318052\n",
       "Masculino               31.147876\n",
       "Prefiro não informar    26.473684\n",
       "Name: idade, dtype: float64"
      ]
     },
     "execution_count": 11,
     "metadata": {},
     "output_type": "execute_result"
    }
   ],
   "source": [
    "df.groupby(['genero'])['idade'].mean()"
   ]
  },
  {
   "cell_type": "markdown",
   "id": "7acb2075",
   "metadata": {},
   "source": [
    "Verificando quantos dados são nulos novamente"
   ]
  },
  {
   "cell_type": "code",
   "execution_count": 12,
   "id": "a6569295",
   "metadata": {},
   "outputs": [
    {
     "data": {
      "text/plain": [
       "idade                        74\n",
       "genero                        0\n",
       "etnia                         0\n",
       "pcd                           0\n",
       "vive_no_brasil                0\n",
       "estado_moradia              115\n",
       "nivel_ensino                  0\n",
       "formacao                    122\n",
       "tempo_experiencia_dados     577\n",
       "linguagens_preferidas      1292\n",
       "bancos_de_dados            1293\n",
       "cloud_preferida            1290\n",
       "cargo                      1290\n",
       "dtype: int64"
      ]
     },
     "execution_count": 12,
     "metadata": {},
     "output_type": "execute_result"
    }
   ],
   "source": [
    "df.isnull().sum()"
   ]
  },
  {
   "cell_type": "markdown",
   "id": "8b2733ba",
   "metadata": {},
   "source": [
    "Copia de seguração do df"
   ]
  },
  {
   "cell_type": "code",
   "execution_count": 13,
   "id": "c09b2faa",
   "metadata": {},
   "outputs": [],
   "source": [
    "df2  = df.copy()"
   ]
  },
  {
   "cell_type": "markdown",
   "id": "9358614d",
   "metadata": {},
   "source": [
    "Analisando se existe uma relação entre entre os dados das colunas \"cargo\",\"banco_de_dados\",\"linguagens_preferidas\",\"cloud_preferida\""
   ]
  },
  {
   "cell_type": "code",
   "execution_count": 14,
   "id": "22e96978",
   "metadata": {},
   "outputs": [],
   "source": [
    "df2['carreira_nan'] = df['cargo'].isna() & df['cloud_preferida'].isna() & df['bancos_de_dados'].isna() & df['linguagens_preferidas'].isna()"
   ]
  },
  {
   "cell_type": "markdown",
   "id": "6a7f6e2c",
   "metadata": {},
   "source": [
    "Existe uma relação "
   ]
  },
  {
   "cell_type": "code",
   "execution_count": 15,
   "id": "32dcc523",
   "metadata": {},
   "outputs": [
    {
     "data": {
      "text/plain": [
       "np.int64(1290)"
      ]
     },
     "execution_count": 15,
     "metadata": {},
     "output_type": "execute_result"
    }
   ],
   "source": [
    "df2['carreira_nan'].sum()"
   ]
  },
  {
   "cell_type": "markdown",
   "id": "8ec80343",
   "metadata": {},
   "source": [
    "Analisando se existe uma relação entre entre os dados das colunas \"banco_de_dados\",\"linguagens_preferidas\""
   ]
  },
  {
   "cell_type": "code",
   "execution_count": 16,
   "id": "6ea17ae5",
   "metadata": {},
   "outputs": [],
   "source": [
    "df2['linguagem_banco'] = df['bancos_de_dados'].isna() & df['linguagens_preferidas'].isna()"
   ]
  },
  {
   "cell_type": "markdown",
   "id": "6fe60be0",
   "metadata": {},
   "source": [
    "Existe uma relação"
   ]
  },
  {
   "cell_type": "code",
   "execution_count": 17,
   "id": "92742858",
   "metadata": {},
   "outputs": [
    {
     "data": {
      "text/plain": [
       "np.int64(1292)"
      ]
     },
     "execution_count": 17,
     "metadata": {},
     "output_type": "execute_result"
    }
   ],
   "source": [
    "df2['linguagem_banco'].sum()"
   ]
  },
  {
   "cell_type": "markdown",
   "id": "95e48815",
   "metadata": {},
   "source": [
    "Analisando se existe uma relação entre entre os dados das colunas \"tempo_experiencia_dados\",\"formacao\""
   ]
  },
  {
   "cell_type": "code",
   "execution_count": 18,
   "id": "3ee38244",
   "metadata": {},
   "outputs": [],
   "source": [
    "df2['tempo_formacao'] = df['tempo_experiencia_dados'].isna() & df['formacao'].isna()"
   ]
  },
  {
   "cell_type": "markdown",
   "id": "511b08ac",
   "metadata": {},
   "source": [
    "não existe uma relação totalmente direta"
   ]
  },
  {
   "cell_type": "code",
   "execution_count": 19,
   "id": "2bf36c0a",
   "metadata": {},
   "outputs": [
    {
     "data": {
      "text/plain": [
       "np.int64(29)"
      ]
     },
     "execution_count": 19,
     "metadata": {},
     "output_type": "execute_result"
    }
   ],
   "source": [
    "df2['tempo_formacao'].sum()"
   ]
  },
  {
   "cell_type": "markdown",
   "id": "bf7d7419",
   "metadata": {},
   "source": [
    "Preenchendo os dados faltandos em \"estado_moradia\" por \"Não informado\""
   ]
  },
  {
   "cell_type": "code",
   "execution_count": 20,
   "id": "a4c5ccfa",
   "metadata": {},
   "outputs": [],
   "source": [
    "df2['estado_moradia'] = df['estado_moradia'].fillna('Não Informado')"
   ]
  },
  {
   "cell_type": "markdown",
   "id": "93166a88",
   "metadata": {},
   "source": [
    "Verificando dados nulos"
   ]
  },
  {
   "cell_type": "code",
   "execution_count": 21,
   "id": "ddbce500",
   "metadata": {},
   "outputs": [
    {
     "data": {
      "text/plain": [
       "idade                        74\n",
       "genero                        0\n",
       "etnia                         0\n",
       "pcd                           0\n",
       "vive_no_brasil                0\n",
       "estado_moradia                0\n",
       "nivel_ensino                  0\n",
       "formacao                    122\n",
       "tempo_experiencia_dados     577\n",
       "linguagens_preferidas      1292\n",
       "bancos_de_dados            1293\n",
       "cloud_preferida            1290\n",
       "cargo                      1290\n",
       "carreira_nan                  0\n",
       "linguagem_banco               0\n",
       "tempo_formacao                0\n",
       "dtype: int64"
      ]
     },
     "execution_count": 21,
     "metadata": {},
     "output_type": "execute_result"
    }
   ],
   "source": [
    "df2.isnull().sum()"
   ]
  },
  {
   "cell_type": "markdown",
   "id": "fd9ac0d5",
   "metadata": {},
   "source": [
    " Criando uma matriz para armazenar as idades medias por generos e substituir nos respctivos dados NaN na coluna \"idade\""
   ]
  },
  {
   "cell_type": "code",
   "execution_count": 22,
   "id": "a646f481",
   "metadata": {},
   "outputs": [],
   "source": [
    "idades_generos = df.groupby(['genero'])['idade'].mean()"
   ]
  },
  {
   "cell_type": "code",
   "execution_count": 23,
   "id": "2fc5d8d2",
   "metadata": {},
   "outputs": [
    {
     "data": {
      "text/plain": [
       "genero\n",
       "Feminino                31.318052\n",
       "Masculino               31.147876\n",
       "Prefiro não informar    26.473684\n",
       "Name: idade, dtype: float64"
      ]
     },
     "execution_count": 23,
     "metadata": {},
     "output_type": "execute_result"
    }
   ],
   "source": [
    "idades_generos"
   ]
  },
  {
   "cell_type": "code",
   "execution_count": 24,
   "id": "e6f79a98",
   "metadata": {},
   "outputs": [
    {
     "name": "stdout",
     "output_type": "stream",
     "text": [
      "31 31 26\n"
     ]
    }
   ],
   "source": [
    "f = round(idades_generos['Feminino'])\n",
    "m = round(idades_generos['Masculino'])\n",
    "n = round(idades_generos['Prefiro não informar'])\n",
    "\n",
    "print (f,m,n)"
   ]
  },
  {
   "cell_type": "markdown",
   "id": "d8fe6562",
   "metadata": {},
   "source": [
    "Criando novamente uma copia de segurança"
   ]
  },
  {
   "cell_type": "code",
   "execution_count": 25,
   "id": "b76a2578",
   "metadata": {},
   "outputs": [],
   "source": [
    "df3 = df2.copy()"
   ]
  },
  {
   "cell_type": "markdown",
   "id": "92d81e50",
   "metadata": {},
   "source": [
    "Criando uma condição para substituir a idade media de cada genero somente no genero escolhido "
   ]
  },
  {
   "cell_type": "code",
   "execution_count": 26,
   "id": "6fceb9b1",
   "metadata": {},
   "outputs": [],
   "source": [
    "condicao = (df['idade'].isna()) & (df['genero'] == 'Masculino')\n",
    "df2.loc[condicao, 'idade'] = m"
   ]
  },
  {
   "cell_type": "code",
   "execution_count": 27,
   "id": "d6700a0a",
   "metadata": {},
   "outputs": [],
   "source": [
    "condicao = (df['idade'].isna()) & (df['genero'] == 'Prefiro não informar')\n",
    "df2.loc[condicao, 'idade'] = n"
   ]
  },
  {
   "cell_type": "code",
   "execution_count": 28,
   "id": "5cea4b70",
   "metadata": {},
   "outputs": [],
   "source": [
    "condicao = (df['idade'].isna()) & (df['genero'] == 'Feminino')\n",
    "df2.loc[condicao, 'idade'] = f"
   ]
  },
  {
   "cell_type": "markdown",
   "id": "63e1d09d",
   "metadata": {},
   "source": [
    "Verificando a nova media"
   ]
  },
  {
   "cell_type": "code",
   "execution_count": 29,
   "id": "8f1b1b93",
   "metadata": {},
   "outputs": [
    {
     "data": {
      "text/plain": [
       "genero\n",
       "Feminino                31.315341\n",
       "Masculino               31.144959\n",
       "Prefiro não informar    26.428571\n",
       "Name: idade, dtype: float64"
      ]
     },
     "execution_count": 29,
     "metadata": {},
     "output_type": "execute_result"
    }
   ],
   "source": [
    "df2.groupby(['genero'])['idade'].mean()"
   ]
  },
  {
   "cell_type": "markdown",
   "id": "9fba1097",
   "metadata": {},
   "source": [
    "Analisando os dados vazios"
   ]
  },
  {
   "cell_type": "code",
   "execution_count": 30,
   "id": "eb28b35e",
   "metadata": {},
   "outputs": [
    {
     "data": {
      "text/plain": [
       "idade                         0\n",
       "genero                        0\n",
       "etnia                         0\n",
       "pcd                           0\n",
       "vive_no_brasil                0\n",
       "estado_moradia                0\n",
       "nivel_ensino                  0\n",
       "formacao                    122\n",
       "tempo_experiencia_dados     577\n",
       "linguagens_preferidas      1292\n",
       "bancos_de_dados            1293\n",
       "cloud_preferida            1290\n",
       "cargo                      1290\n",
       "carreira_nan                  0\n",
       "linguagem_banco               0\n",
       "tempo_formacao                0\n",
       "dtype: int64"
      ]
     },
     "execution_count": 30,
     "metadata": {},
     "output_type": "execute_result"
    }
   ],
   "source": [
    "df2.isnull().sum()"
   ]
  },
  {
   "cell_type": "markdown",
   "id": "5e321457",
   "metadata": {},
   "source": [
    "atualizando a copia de segurança"
   ]
  },
  {
   "cell_type": "code",
   "execution_count": 31,
   "id": "8256bcea",
   "metadata": {},
   "outputs": [],
   "source": [
    "df3 = df2.copy()"
   ]
  },
  {
   "cell_type": "markdown",
   "id": "798e0322",
   "metadata": {},
   "source": [
    "Dropando todas as linhas que possuem 'carreira_nan' como True. Pois essas linhas possuem 4 dados vazios importantes"
   ]
  },
  {
   "cell_type": "code",
   "execution_count": 32,
   "id": "08ae2b23",
   "metadata": {},
   "outputs": [],
   "source": [
    "df3 = df2[~df2['carreira_nan']]"
   ]
  },
  {
   "cell_type": "markdown",
   "id": "3f2fbac2",
   "metadata": {},
   "source": [
    "Verificando os dados vazios"
   ]
  },
  {
   "cell_type": "code",
   "execution_count": 33,
   "id": "b9461d6a",
   "metadata": {},
   "outputs": [
    {
     "data": {
      "text/plain": [
       "idade                       0\n",
       "genero                      0\n",
       "etnia                       0\n",
       "pcd                         0\n",
       "vive_no_brasil              0\n",
       "estado_moradia              0\n",
       "nivel_ensino                0\n",
       "formacao                   74\n",
       "tempo_experiencia_dados     0\n",
       "linguagens_preferidas       2\n",
       "bancos_de_dados             3\n",
       "cloud_preferida             0\n",
       "cargo                       0\n",
       "carreira_nan                0\n",
       "linguagem_banco             0\n",
       "tempo_formacao              0\n",
       "dtype: int64"
      ]
     },
     "execution_count": 33,
     "metadata": {},
     "output_type": "execute_result"
    }
   ],
   "source": [
    "df3.isnull().sum()"
   ]
  },
  {
   "cell_type": "markdown",
   "id": "4f31072c",
   "metadata": {},
   "source": [
    "Substituindo os valores vazios de \"formacao\" por 'Prefiro não informar' e \"linguagens_preferidas\" por 'Não sei opinar'"
   ]
  },
  {
   "cell_type": "code",
   "execution_count": 34,
   "id": "2e06a05c",
   "metadata": {},
   "outputs": [],
   "source": [
    "df3.loc[:, 'formacao'] = df3['formacao'].fillna('Prefiro não informar')"
   ]
  },
  {
   "cell_type": "code",
   "execution_count": 35,
   "id": "86dfd3f5",
   "metadata": {},
   "outputs": [],
   "source": [
    "df3.loc[:,'linguagens_preferidas'] = df3['linguagens_preferidas'].fillna('Não sei opinar')"
   ]
  },
  {
   "cell_type": "code",
   "execution_count": 36,
   "id": "21588693",
   "metadata": {},
   "outputs": [],
   "source": [
    "df3.loc[:,'bancos_de_dados'] = df3['bancos_de_dados'].fillna('Prefiro não informar')"
   ]
  },
  {
   "cell_type": "code",
   "execution_count": 37,
   "id": "6b47e1e6",
   "metadata": {},
   "outputs": [
    {
     "data": {
      "text/plain": [
       "idade                      0\n",
       "genero                     0\n",
       "etnia                      0\n",
       "pcd                        0\n",
       "vive_no_brasil             0\n",
       "estado_moradia             0\n",
       "nivel_ensino               0\n",
       "formacao                   0\n",
       "tempo_experiencia_dados    0\n",
       "linguagens_preferidas      0\n",
       "bancos_de_dados            0\n",
       "cloud_preferida            0\n",
       "cargo                      0\n",
       "carreira_nan               0\n",
       "linguagem_banco            0\n",
       "tempo_formacao             0\n",
       "dtype: int64"
      ]
     },
     "execution_count": 37,
     "metadata": {},
     "output_type": "execute_result"
    }
   ],
   "source": [
    "df3.isnull().sum()"
   ]
  },
  {
   "cell_type": "code",
   "execution_count": 38,
   "id": "0a182b45",
   "metadata": {},
   "outputs": [
    {
     "data": {
      "text/html": [
       "<div>\n",
       "<style scoped>\n",
       "    .dataframe tbody tr th:only-of-type {\n",
       "        vertical-align: middle;\n",
       "    }\n",
       "\n",
       "    .dataframe tbody tr th {\n",
       "        vertical-align: top;\n",
       "    }\n",
       "\n",
       "    .dataframe thead th {\n",
       "        text-align: right;\n",
       "    }\n",
       "</style>\n",
       "<table border=\"1\" class=\"dataframe\">\n",
       "  <thead>\n",
       "    <tr style=\"text-align: right;\">\n",
       "      <th></th>\n",
       "      <th>idade</th>\n",
       "      <th>genero</th>\n",
       "      <th>etnia</th>\n",
       "      <th>pcd</th>\n",
       "      <th>vive_no_brasil</th>\n",
       "      <th>estado_moradia</th>\n",
       "      <th>nivel_ensino</th>\n",
       "      <th>formacao</th>\n",
       "      <th>tempo_experiencia_dados</th>\n",
       "      <th>linguagens_preferidas</th>\n",
       "      <th>bancos_de_dados</th>\n",
       "      <th>cloud_preferida</th>\n",
       "      <th>cargo</th>\n",
       "      <th>carreira_nan</th>\n",
       "      <th>linguagem_banco</th>\n",
       "      <th>tempo_formacao</th>\n",
       "    </tr>\n",
       "  </thead>\n",
       "  <tbody>\n",
       "    <tr>\n",
       "      <th>0</th>\n",
       "      <td>39.0</td>\n",
       "      <td>Masculino</td>\n",
       "      <td>Parda</td>\n",
       "      <td>Não</td>\n",
       "      <td>True</td>\n",
       "      <td>Distrito Federal (DF)</td>\n",
       "      <td>Pós-graduação</td>\n",
       "      <td>Computação / Engenharia de Software / Sistemas...</td>\n",
       "      <td>de 1 a 2 anos</td>\n",
       "      <td>R</td>\n",
       "      <td>PostgreSQL, Oracle, MySQL, SQL SERVER</td>\n",
       "      <td>Amazon Web Services (AWS)</td>\n",
       "      <td>DBA/Administrador de Banco de Dados</td>\n",
       "      <td>False</td>\n",
       "      <td>False</td>\n",
       "      <td>False</td>\n",
       "    </tr>\n",
       "    <tr>\n",
       "      <th>2</th>\n",
       "      <td>53.0</td>\n",
       "      <td>Masculino</td>\n",
       "      <td>Branca</td>\n",
       "      <td>Não</td>\n",
       "      <td>True</td>\n",
       "      <td>Distrito Federal (DF)</td>\n",
       "      <td>Pós-graduação</td>\n",
       "      <td>Computação / Engenharia de Software / Sistemas...</td>\n",
       "      <td>de 3 a 4 anos</td>\n",
       "      <td>Python</td>\n",
       "      <td>PostgreSQL, MySQL, Oracle, DB2</td>\n",
       "      <td>Amazon Web Services (AWS)</td>\n",
       "      <td>Desenvolvedor/ Engenheiro de Software/ Analist...</td>\n",
       "      <td>False</td>\n",
       "      <td>False</td>\n",
       "      <td>False</td>\n",
       "    </tr>\n",
       "    <tr>\n",
       "      <th>3</th>\n",
       "      <td>27.0</td>\n",
       "      <td>Masculino</td>\n",
       "      <td>Branca</td>\n",
       "      <td>Não</td>\n",
       "      <td>True</td>\n",
       "      <td>Minas Gerais (MG)</td>\n",
       "      <td>Doutorado ou Phd</td>\n",
       "      <td>Estatística/ Matemática / Matemática Computaci...</td>\n",
       "      <td>de 4 a 6 anos</td>\n",
       "      <td>Python</td>\n",
       "      <td>Google BigQuery</td>\n",
       "      <td>Não sei opinar</td>\n",
       "      <td>Cientista de Dados/Data Scientist</td>\n",
       "      <td>False</td>\n",
       "      <td>False</td>\n",
       "      <td>False</td>\n",
       "    </tr>\n",
       "    <tr>\n",
       "      <th>4</th>\n",
       "      <td>46.0</td>\n",
       "      <td>Feminino</td>\n",
       "      <td>Branca</td>\n",
       "      <td>Não</td>\n",
       "      <td>True</td>\n",
       "      <td>Pará (PA)</td>\n",
       "      <td>Pós-graduação</td>\n",
       "      <td>Computação / Engenharia de Software / Sistemas...</td>\n",
       "      <td>Não tenho experiência na área de dados</td>\n",
       "      <td>Python</td>\n",
       "      <td>Microsoft Access</td>\n",
       "      <td>Amazon Web Services (AWS)</td>\n",
       "      <td>Desenvolvedor/ Engenheiro de Software/ Analist...</td>\n",
       "      <td>False</td>\n",
       "      <td>False</td>\n",
       "      <td>False</td>\n",
       "    </tr>\n",
       "    <tr>\n",
       "      <th>5</th>\n",
       "      <td>32.0</td>\n",
       "      <td>Feminino</td>\n",
       "      <td>Parda</td>\n",
       "      <td>Não</td>\n",
       "      <td>True</td>\n",
       "      <td>Ceará (CE)</td>\n",
       "      <td>Pós-graduação</td>\n",
       "      <td>Ciências Biológicas/ Farmácia/ Medicina/ Área ...</td>\n",
       "      <td>Não tenho experiência na área de dados</td>\n",
       "      <td>Python</td>\n",
       "      <td>Google BigQuery</td>\n",
       "      <td>Google Cloud (GCP)</td>\n",
       "      <td>Professor</td>\n",
       "      <td>False</td>\n",
       "      <td>False</td>\n",
       "      <td>False</td>\n",
       "    </tr>\n",
       "    <tr>\n",
       "      <th>...</th>\n",
       "      <td>...</td>\n",
       "      <td>...</td>\n",
       "      <td>...</td>\n",
       "      <td>...</td>\n",
       "      <td>...</td>\n",
       "      <td>...</td>\n",
       "      <td>...</td>\n",
       "      <td>...</td>\n",
       "      <td>...</td>\n",
       "      <td>...</td>\n",
       "      <td>...</td>\n",
       "      <td>...</td>\n",
       "      <td>...</td>\n",
       "      <td>...</td>\n",
       "      <td>...</td>\n",
       "      <td>...</td>\n",
       "    </tr>\n",
       "    <tr>\n",
       "      <th>4265</th>\n",
       "      <td>28.0</td>\n",
       "      <td>Masculino</td>\n",
       "      <td>Branca</td>\n",
       "      <td>Não</td>\n",
       "      <td>True</td>\n",
       "      <td>Paraná (PR)</td>\n",
       "      <td>Graduação/Bacharelado</td>\n",
       "      <td>Computação / Engenharia de Software / Sistemas...</td>\n",
       "      <td>de 3 a 4 anos</td>\n",
       "      <td>Julia</td>\n",
       "      <td>SQLite</td>\n",
       "      <td>Azure (Microsoft)</td>\n",
       "      <td>Analista de Marketing</td>\n",
       "      <td>False</td>\n",
       "      <td>False</td>\n",
       "      <td>False</td>\n",
       "    </tr>\n",
       "    <tr>\n",
       "      <th>4266</th>\n",
       "      <td>26.0</td>\n",
       "      <td>Masculino</td>\n",
       "      <td>Branca</td>\n",
       "      <td>Não</td>\n",
       "      <td>True</td>\n",
       "      <td>São Paulo (SP)</td>\n",
       "      <td>Graduação/Bacharelado</td>\n",
       "      <td>Computação / Engenharia de Software / Sistemas...</td>\n",
       "      <td>de 3 a 4 anos</td>\n",
       "      <td>Python</td>\n",
       "      <td>PostgreSQL, Oracle, MariaDB, HBase, MySQL</td>\n",
       "      <td>Não sei opinar</td>\n",
       "      <td>Analista de Dados/Data Analyst</td>\n",
       "      <td>False</td>\n",
       "      <td>False</td>\n",
       "      <td>False</td>\n",
       "    </tr>\n",
       "    <tr>\n",
       "      <th>4267</th>\n",
       "      <td>30.0</td>\n",
       "      <td>Feminino</td>\n",
       "      <td>Branca</td>\n",
       "      <td>Não</td>\n",
       "      <td>True</td>\n",
       "      <td>Minas Gerais (MG)</td>\n",
       "      <td>Mestrado</td>\n",
       "      <td>Outras Engenharias</td>\n",
       "      <td>de 1 a 2 anos</td>\n",
       "      <td>Python</td>\n",
       "      <td>SQL SERVER, SAP HANA</td>\n",
       "      <td>Azure (Microsoft)</td>\n",
       "      <td>Engenheiro de Dados/Arquiteto de Dados/Data En...</td>\n",
       "      <td>False</td>\n",
       "      <td>False</td>\n",
       "      <td>False</td>\n",
       "    </tr>\n",
       "    <tr>\n",
       "      <th>4269</th>\n",
       "      <td>31.0</td>\n",
       "      <td>Masculino</td>\n",
       "      <td>Branca</td>\n",
       "      <td>Não</td>\n",
       "      <td>True</td>\n",
       "      <td>São Paulo (SP)</td>\n",
       "      <td>Não tenho graduação formal</td>\n",
       "      <td>Prefiro não informar</td>\n",
       "      <td>Menos de 1 ano</td>\n",
       "      <td>Python</td>\n",
       "      <td>Microsoft Access, Oracle</td>\n",
       "      <td>Azure (Microsoft)</td>\n",
       "      <td>Outra Opção</td>\n",
       "      <td>False</td>\n",
       "      <td>False</td>\n",
       "      <td>False</td>\n",
       "    </tr>\n",
       "    <tr>\n",
       "      <th>4270</th>\n",
       "      <td>24.0</td>\n",
       "      <td>Masculino</td>\n",
       "      <td>Branca</td>\n",
       "      <td>Não</td>\n",
       "      <td>True</td>\n",
       "      <td>Goiás (GO)</td>\n",
       "      <td>Graduação/Bacharelado</td>\n",
       "      <td>Computação / Engenharia de Software / Sistemas...</td>\n",
       "      <td>de 1 a 2 anos</td>\n",
       "      <td>Python</td>\n",
       "      <td>Oracle, Firebird, SQL SERVER</td>\n",
       "      <td>Amazon Web Services (AWS)</td>\n",
       "      <td>Analista de Dados/Data Analyst</td>\n",
       "      <td>False</td>\n",
       "      <td>False</td>\n",
       "      <td>False</td>\n",
       "    </tr>\n",
       "  </tbody>\n",
       "</table>\n",
       "<p>2981 rows × 16 columns</p>\n",
       "</div>"
      ],
      "text/plain": [
       "      idade     genero   etnia  pcd  vive_no_brasil         estado_moradia  \\\n",
       "0      39.0  Masculino   Parda  Não            True  Distrito Federal (DF)   \n",
       "2      53.0  Masculino  Branca  Não            True  Distrito Federal (DF)   \n",
       "3      27.0  Masculino  Branca  Não            True      Minas Gerais (MG)   \n",
       "4      46.0   Feminino  Branca  Não            True              Pará (PA)   \n",
       "5      32.0   Feminino   Parda  Não            True             Ceará (CE)   \n",
       "...     ...        ...     ...  ...             ...                    ...   \n",
       "4265   28.0  Masculino  Branca  Não            True            Paraná (PR)   \n",
       "4266   26.0  Masculino  Branca  Não            True         São Paulo (SP)   \n",
       "4267   30.0   Feminino  Branca  Não            True      Minas Gerais (MG)   \n",
       "4269   31.0  Masculino  Branca  Não            True         São Paulo (SP)   \n",
       "4270   24.0  Masculino  Branca  Não            True             Goiás (GO)   \n",
       "\n",
       "                    nivel_ensino  \\\n",
       "0                  Pós-graduação   \n",
       "2                  Pós-graduação   \n",
       "3               Doutorado ou Phd   \n",
       "4                  Pós-graduação   \n",
       "5                  Pós-graduação   \n",
       "...                          ...   \n",
       "4265       Graduação/Bacharelado   \n",
       "4266       Graduação/Bacharelado   \n",
       "4267                    Mestrado   \n",
       "4269  Não tenho graduação formal   \n",
       "4270       Graduação/Bacharelado   \n",
       "\n",
       "                                               formacao  \\\n",
       "0     Computação / Engenharia de Software / Sistemas...   \n",
       "2     Computação / Engenharia de Software / Sistemas...   \n",
       "3     Estatística/ Matemática / Matemática Computaci...   \n",
       "4     Computação / Engenharia de Software / Sistemas...   \n",
       "5     Ciências Biológicas/ Farmácia/ Medicina/ Área ...   \n",
       "...                                                 ...   \n",
       "4265  Computação / Engenharia de Software / Sistemas...   \n",
       "4266  Computação / Engenharia de Software / Sistemas...   \n",
       "4267                                 Outras Engenharias   \n",
       "4269                               Prefiro não informar   \n",
       "4270  Computação / Engenharia de Software / Sistemas...   \n",
       "\n",
       "                     tempo_experiencia_dados linguagens_preferidas  \\\n",
       "0                              de 1 a 2 anos                     R   \n",
       "2                              de 3 a 4 anos                Python   \n",
       "3                              de 4 a 6 anos                Python   \n",
       "4     Não tenho experiência na área de dados                Python   \n",
       "5     Não tenho experiência na área de dados                Python   \n",
       "...                                      ...                   ...   \n",
       "4265                           de 3 a 4 anos                 Julia   \n",
       "4266                           de 3 a 4 anos                Python   \n",
       "4267                           de 1 a 2 anos                Python   \n",
       "4269                          Menos de 1 ano                Python   \n",
       "4270                           de 1 a 2 anos                Python   \n",
       "\n",
       "                                bancos_de_dados            cloud_preferida  \\\n",
       "0         PostgreSQL, Oracle, MySQL, SQL SERVER  Amazon Web Services (AWS)   \n",
       "2                PostgreSQL, MySQL, Oracle, DB2  Amazon Web Services (AWS)   \n",
       "3                               Google BigQuery             Não sei opinar   \n",
       "4                              Microsoft Access  Amazon Web Services (AWS)   \n",
       "5                               Google BigQuery         Google Cloud (GCP)   \n",
       "...                                         ...                        ...   \n",
       "4265                                     SQLite          Azure (Microsoft)   \n",
       "4266  PostgreSQL, Oracle, MariaDB, HBase, MySQL             Não sei opinar   \n",
       "4267                       SQL SERVER, SAP HANA          Azure (Microsoft)   \n",
       "4269                   Microsoft Access, Oracle          Azure (Microsoft)   \n",
       "4270               Oracle, Firebird, SQL SERVER  Amazon Web Services (AWS)   \n",
       "\n",
       "                                                  cargo  carreira_nan  \\\n",
       "0                   DBA/Administrador de Banco de Dados         False   \n",
       "2     Desenvolvedor/ Engenheiro de Software/ Analist...         False   \n",
       "3                     Cientista de Dados/Data Scientist         False   \n",
       "4     Desenvolvedor/ Engenheiro de Software/ Analist...         False   \n",
       "5                                             Professor         False   \n",
       "...                                                 ...           ...   \n",
       "4265                              Analista de Marketing         False   \n",
       "4266                     Analista de Dados/Data Analyst         False   \n",
       "4267  Engenheiro de Dados/Arquiteto de Dados/Data En...         False   \n",
       "4269                                        Outra Opção         False   \n",
       "4270                     Analista de Dados/Data Analyst         False   \n",
       "\n",
       "      linguagem_banco  tempo_formacao  \n",
       "0               False           False  \n",
       "2               False           False  \n",
       "3               False           False  \n",
       "4               False           False  \n",
       "5               False           False  \n",
       "...               ...             ...  \n",
       "4265            False           False  \n",
       "4266            False           False  \n",
       "4267            False           False  \n",
       "4269            False           False  \n",
       "4270            False           False  \n",
       "\n",
       "[2981 rows x 16 columns]"
      ]
     },
     "execution_count": 38,
     "metadata": {},
     "output_type": "execute_result"
    }
   ],
   "source": [
    "df3.head(4270)"
   ]
  },
  {
   "cell_type": "markdown",
   "id": "fde9c877",
   "metadata": {},
   "source": [
    "Dropando as colunas que foram usadas para analisar as correlações"
   ]
  },
  {
   "cell_type": "code",
   "execution_count": 39,
   "id": "5e8098b9",
   "metadata": {},
   "outputs": [],
   "source": [
    "df3 = df3.drop(columns='tempo_formacao')\n",
    "df3 = df3.drop(columns='carreira_nan')\n",
    "df3 = df3.drop(columns='linguagem_banco')"
   ]
  },
  {
   "cell_type": "markdown",
   "id": "d10993aa",
   "metadata": {},
   "source": [
    "Analisando as linguagens preferidas por genero. Verificando que existem respostas inconsistentes  "
   ]
  },
  {
   "cell_type": "code",
   "execution_count": 40,
   "id": "83b03d89",
   "metadata": {},
   "outputs": [
    {
     "data": {
      "text/plain": [
       "genero                linguagens_preferidas           \n",
       "Feminino              C/C++/C#                               7\n",
       "                      Dax                                    1\n",
       "                      Excel                                  1\n",
       "                      Java                                   1\n",
       "                      Julia                                  4\n",
       "                      KQL                                    1\n",
       "                      Nenhum                                 1\n",
       "                      NÃO SEI                                1\n",
       "                      Não sei                                1\n",
       "                      Não sei opinar                         1\n",
       "                      Não uso                                1\n",
       "                      Não utilizo                            1\n",
       "                      PySpark                                2\n",
       "                      Python                               617\n",
       "                      R                                     83\n",
       "                      SQL                                   10\n",
       "                      SQL Postegres                          1\n",
       "                      Scala                                  8\n",
       "                      Softwares estatísticos como spss       1\n",
       "                      Spark                                  1\n",
       "                      Sql                                    7\n",
       "                      javascript                             1\n",
       "                      spark                                  1\n",
       "                      sql                                    1\n",
       "Masculino             Aql                                    1\n",
       "                      C/C++/C#                              18\n",
       "                      Clojure                                1\n",
       "                      Elixir                                 3\n",
       "                      Excel                                  1\n",
       "                      Go                                     2\n",
       "                      Julia                                 13\n",
       "                      M                                      1\n",
       "                      M Language                             1\n",
       "                      Nao atuo com programação               1\n",
       "                      Nenhuma                                1\n",
       "                      Não sei opinar                         1\n",
       "                      Python                              1952\n",
       "                      R                                    163\n",
       "                      Rust                                   3\n",
       "                      SQL                                   18\n",
       "                      Sas                                    1\n",
       "                      Scala                                 26\n",
       "                      Sql                                    1\n",
       "                      VBA                                    1\n",
       "                      java                                   1\n",
       "                      sql                                    1\n",
       "                      xlsx                                   1\n",
       "Prefiro não informar  Python                                12\n",
       "                      R                                      2\n",
       "                      Scala                                  1\n",
       "dtype: int64"
      ]
     },
     "execution_count": 40,
     "metadata": {},
     "output_type": "execute_result"
    }
   ],
   "source": [
    "df3.groupby(['genero','linguagens_preferidas']).size()"
   ]
  },
  {
   "cell_type": "markdown",
   "id": "23577d2e",
   "metadata": {},
   "source": [
    "Tratamento dos dados da coluna \"linguagens_preferidas\""
   ]
  },
  {
   "cell_type": "code",
   "execution_count": 41,
   "id": "1e61dfe9",
   "metadata": {},
   "outputs": [],
   "source": [
    "df3['linguagens_preferidas'] = df3['linguagens_preferidas'].apply(lambda x: x.lower())"
   ]
  },
  {
   "cell_type": "code",
   "execution_count": 42,
   "id": "13afd032",
   "metadata": {},
   "outputs": [],
   "source": [
    "df3['linguagens_preferidas'] = df3['linguagens_preferidas'].replace(\"não sei\", \"não sei opinar\")\n",
    "df3.loc[df3['linguagens_preferidas'] == \"não uso\", 'linguagens_preferidas'] = \"não sei opinar\"\n",
    "df3.loc[df3['linguagens_preferidas'] == \"não utilizo\", 'linguagens_preferidas'] = \"não sei opinar\"\n",
    "df3.loc[df3['linguagens_preferidas'] == \"nenhum\", 'linguagens_preferidas'] = \"não sei opinar\"\n",
    "df3.loc[df3['linguagens_preferidas'] == \"nao atuo com programação\", 'linguagens_preferidas'] = \"não sei opinar\"\n",
    "df3.loc[df3['linguagens_preferidas'] == \"nenhuma\", 'linguagens_preferidas'] = \"não sei opinar\"\n",
    "\n",
    "\n",
    "df3['linguagens_preferidas'] = df3['linguagens_preferidas'].replace(\"aql\", \"sql\")\n",
    "df3['linguagens_preferidas'] = df3['linguagens_preferidas'].replace(\"kql\", \"sql\")\n",
    "\n",
    "df3['linguagens_preferidas'] = df3['linguagens_preferidas'].replace(\"m\", \"m language\")\n",
    "\n",
    "df3['linguagens_preferidas'] = df3['linguagens_preferidas'].replace(\"xlsx\", \"excel\")\n",
    "\n",
    "df3['linguagens_preferidas'] = df3['linguagens_preferidas'].replace(\"softwares estatísticos como spss\", \"não sei opinar\")"
   ]
  },
  {
   "cell_type": "code",
   "execution_count": 43,
   "id": "7ad1eba8",
   "metadata": {},
   "outputs": [
    {
     "data": {
      "text/plain": [
       "genero                linguagens_preferidas\n",
       "Feminino              c/c++/c#                    7\n",
       "                      dax                         1\n",
       "                      excel                       1\n",
       "                      java                        1\n",
       "                      javascript                  1\n",
       "                      julia                       4\n",
       "                      não sei opinar              7\n",
       "                      pyspark                     2\n",
       "                      python                    617\n",
       "                      r                          83\n",
       "                      scala                       8\n",
       "                      spark                       2\n",
       "                      sql                        19\n",
       "                      sql postegres               1\n",
       "Masculino             c/c++/c#                   18\n",
       "                      clojure                     1\n",
       "                      elixir                      3\n",
       "                      excel                       2\n",
       "                      go                          2\n",
       "                      java                        1\n",
       "                      julia                      13\n",
       "                      m language                  2\n",
       "                      não sei opinar              3\n",
       "                      python                   1952\n",
       "                      r                         163\n",
       "                      rust                        3\n",
       "                      sas                         1\n",
       "                      scala                      26\n",
       "                      sql                        21\n",
       "                      vba                         1\n",
       "Prefiro não informar  python                     12\n",
       "                      r                           2\n",
       "                      scala                       1\n",
       "dtype: int64"
      ]
     },
     "execution_count": 43,
     "metadata": {},
     "output_type": "execute_result"
    }
   ],
   "source": [
    "df3.groupby(['genero','linguagens_preferidas']).size()"
   ]
  },
  {
   "cell_type": "markdown",
   "id": "6714fd45",
   "metadata": {},
   "source": [
    "Analisando se existe alguma inconsistencia na relação \"tempo_experiencia_dados\" por genero. Verificando que não"
   ]
  },
  {
   "cell_type": "code",
   "execution_count": 44,
   "id": "dfbe926d",
   "metadata": {},
   "outputs": [
    {
     "data": {
      "text/plain": [
       "genero                tempo_experiencia_dados               \n",
       "Feminino              Mais de 10 anos                            45\n",
       "                      Menos de 1 ano                            146\n",
       "                      Não tenho experiência na área de dados     45\n",
       "                      de 1 a 2 anos                             242\n",
       "                      de 3 a 4 anos                             135\n",
       "                      de 4 a 6 anos                              90\n",
       "                      de 7 a 10 anos                             51\n",
       "Masculino             Mais de 10 anos                           166\n",
       "                      Menos de 1 ano                            389\n",
       "                      Não tenho experiência na área de dados    112\n",
       "                      de 1 a 2 anos                             658\n",
       "                      de 3 a 4 anos                             471\n",
       "                      de 4 a 6 anos                             280\n",
       "                      de 7 a 10 anos                            136\n",
       "Prefiro não informar  Mais de 10 anos                             1\n",
       "                      Menos de 1 ano                              5\n",
       "                      Não tenho experiência na área de dados      1\n",
       "                      de 1 a 2 anos                               6\n",
       "                      de 3 a 4 anos                               2\n",
       "dtype: int64"
      ]
     },
     "execution_count": 44,
     "metadata": {},
     "output_type": "execute_result"
    }
   ],
   "source": [
    "df3.groupby(['genero','tempo_experiencia_dados']).size()"
   ]
  },
  {
   "cell_type": "markdown",
   "id": "4f10db96",
   "metadata": {},
   "source": [
    "Tratamento dos Dados da coluna 'bancos_de_dados'"
   ]
  },
  {
   "cell_type": "code",
   "execution_count": 45,
   "id": "0d177336",
   "metadata": {},
   "outputs": [],
   "source": [
    "df3['bancos_de_dados'] = df3['bancos_de_dados'].apply(lambda x: x.lower())"
   ]
  },
  {
   "cell_type": "code",
   "execution_count": 46,
   "id": "d75a4797",
   "metadata": {},
   "outputs": [
    {
     "data": {
      "text/plain": [
       "array(['nenhum', 'não utilizo.', 'não atuo ainda nisso',\n",
       "       'neo4j, mongodb, snowflake, amazon aurora ou rds, mysql, elaticsearch, sqlite, mariadb, hbase, hive, sql server, dynamodb, oracle, cassandra, s3, presto, amazon redshift, databricks, amazon athena',\n",
       "       'nenhuma', 'não utiluzo', 'não temos bd', 'não uso nenhum',\n",
       "       'nao utilizo', 'nsa', 'não utilizo nenhum',\n",
       "       'nenhuma das respostas', 'nenhum dos listados, apenas excel',\n",
       "       'não reconheço nenhum',\n",
       "       'não atuo na área ainda, estou em transição de carreira',\n",
       "       'nao uso', 'nenhum desses', 'não uso', 'neo4j, mysql, postgresql',\n",
       "       'não trabalho com banco diretamente', 'não utilizo',\n",
       "       'não possuímos um banco de dados.',\n",
       "       'não utilizamos banco de dados', 'nenhum acima',\n",
       "       'não atuo na área ainda', 'não trabalho com base de dados.',\n",
       "       'não uso bd no trabalho, somente em cursos',\n",
       "       'nenhum dos citados acima', 'nosso banco é no excel', 'não usamos',\n",
       "       'neo4j, s3, mongodb, google bigquery', 'não sei', 'nda',\n",
       "       'nao atuo na area de tech na empresa ainda', 'não se aplica',\n",
       "       'nenhum destes',\n",
       "       'não tenho acesso ao banco de dados devido ao compliance da empresa',\n",
       "       'neo4j, google bigquery, postgresql, google firestore, firebase, amazon athena',\n",
       "       'nd', 'não utilizo bancos de dados.', 'none',\n",
       "       'não trabalho com dados'], dtype=object)"
      ]
     },
     "execution_count": 46,
     "metadata": {},
     "output_type": "execute_result"
    }
   ],
   "source": [
    "filtro = df3['bancos_de_dados'].str.lower().str.startswith('n', na=False)\n",
    "valores_unicos_com_n = df3.loc[filtro, 'bancos_de_dados'].unique()\n",
    "\n",
    "valores_unicos_com_n"
   ]
  },
  {
   "cell_type": "markdown",
   "id": "499c947a",
   "metadata": {},
   "source": [
    "Utilizando regex para substituir todos os dados que poderiam ser 'não','nao','nenhum','nenhuma','nda','não aplicavel','none'"
   ]
  },
  {
   "cell_type": "code",
   "execution_count": 47,
   "id": "205bf2b5",
   "metadata": {},
   "outputs": [],
   "source": [
    "padrao_regex = r'(?i)^(n[aã]o|nenhum|nenhuma|nda|n/a|none).*'\n",
    "df3['bancos_de_dados'] = df3['bancos_de_dados'].replace(\"nd\", \"não uso\")\n",
    "\n",
    "df3['bancos_de_dados'] = df3['bancos_de_dados'].replace(\n",
    "    to_replace=padrao_regex,\n",
    "    value='não uso',\n",
    "    regex=True\n",
    ")"
   ]
  },
  {
   "cell_type": "code",
   "execution_count": 48,
   "id": "ab876b95",
   "metadata": {},
   "outputs": [
    {
     "data": {
      "text/plain": [
       "array(['não uso',\n",
       "       'neo4j, mongodb, snowflake, amazon aurora ou rds, mysql, elaticsearch, sqlite, mariadb, hbase, hive, sql server, dynamodb, oracle, cassandra, s3, presto, amazon redshift, databricks, amazon athena',\n",
       "       'nsa', 'neo4j, mysql, postgresql', 'nosso banco é no excel',\n",
       "       'neo4j, s3, mongodb, google bigquery',\n",
       "       'neo4j, google bigquery, postgresql, google firestore, firebase, amazon athena'],\n",
       "      dtype=object)"
      ]
     },
     "execution_count": 48,
     "metadata": {},
     "output_type": "execute_result"
    }
   ],
   "source": [
    "filtro = df3['bancos_de_dados'].str.lower().str.startswith('n', na=False)\n",
    "valores_unicos_com_n = df3.loc[filtro, 'bancos_de_dados'].unique()\n",
    "\n",
    "valores_unicos_com_n\n"
   ]
  },
  {
   "cell_type": "code",
   "execution_count": 49,
   "id": "2dfdcf8d",
   "metadata": {},
   "outputs": [
    {
     "data": {
      "text/plain": [
       "genero                bancos_de_dados                                                                          \n",
       "Feminino              amazon athena                                                                                11\n",
       "                      amazon athena, amazon redshift                                                                2\n",
       "                      amazon athena, amazon redshift, databricks, mysql, s3                                         1\n",
       "                      amazon athena, databricks, s3                                                                 2\n",
       "                      amazon athena, google bigquery                                                                1\n",
       "                                                                                                                   ..\n",
       "Prefiro não informar  outro                                                                                         1\n",
       "                      presto, mysql, s3                                                                             1\n",
       "                      s3                                                                                            1\n",
       "                      sql server                                                                                    2\n",
       "                      sql server, oracle, s3, postgresql, microsoft access, sqlite, google bigquery, databricks     1\n",
       "Length: 1550, dtype: int64"
      ]
     },
     "execution_count": 49,
     "metadata": {},
     "output_type": "execute_result"
    }
   ],
   "source": [
    "df3.groupby(['genero','bancos_de_dados']).size()"
   ]
  },
  {
   "cell_type": "markdown",
   "id": "2b92bb83",
   "metadata": {},
   "source": [
    "Analisando o genero masculino"
   ]
  },
  {
   "cell_type": "code",
   "execution_count": 50,
   "id": "19e20820",
   "metadata": {},
   "outputs": [
    {
     "data": {
      "text/plain": [
       "bancos_de_dados\n",
       ".CSV                                                                  1\n",
       "API                                                                   1\n",
       "Access                                                                1\n",
       "Amazon Athena                                                         4\n",
       "Amazon Athena, Amazon Aurora ou RDS, DynamoDB, Amazon Redshift, S3    1\n",
       "                                                                     ..\n",
       "nenhuma                                                               1\n",
       "none                                                                  1\n",
       "não sei                                                               1\n",
       "não utilizamos banco de dados                                         1\n",
       "sintax                                                                1\n",
       "Length: 1171, dtype: int64"
      ]
     },
     "execution_count": 50,
     "metadata": {},
     "output_type": "execute_result"
    }
   ],
   "source": [
    "agrupado = df.groupby(['genero','bancos_de_dados']).size()\n",
    "resultado_masculino = agrupado.loc['Masculino']\n",
    "\n",
    "resultado_masculino"
   ]
  },
  {
   "cell_type": "markdown",
   "id": "05f0be11",
   "metadata": {},
   "source": [
    "Analisando a coluna PCD por genero"
   ]
  },
  {
   "cell_type": "code",
   "execution_count": 51,
   "id": "3e8ad2cf",
   "metadata": {},
   "outputs": [
    {
     "data": {
      "text/plain": [
       "pcd                   genero              \n",
       "Não                   Feminino                 736\n",
       "                      Masculino               2178\n",
       "                      Prefiro não informar      13\n",
       "Prefiro não informar  Feminino                   4\n",
       "                      Masculino                  5\n",
       "                      Prefiro não informar       2\n",
       "Sim                   Feminino                  14\n",
       "                      Masculino                 29\n",
       "dtype: int64"
      ]
     },
     "execution_count": 51,
     "metadata": {},
     "output_type": "execute_result"
    }
   ],
   "source": [
    "df3.groupby(['pcd','genero']).size()"
   ]
  },
  {
   "cell_type": "markdown",
   "id": "2e0f4b23",
   "metadata": {},
   "source": [
    "Resentando Index "
   ]
  },
  {
   "cell_type": "code",
   "execution_count": 52,
   "id": "f20d8c60",
   "metadata": {},
   "outputs": [],
   "source": [
    "df3 = df3.reset_index(drop=True)"
   ]
  },
  {
   "cell_type": "markdown",
   "id": "cb9665da",
   "metadata": {},
   "source": [
    "Mudando o tipo da idade de float para int"
   ]
  },
  {
   "cell_type": "code",
   "execution_count": 53,
   "id": "204e8070",
   "metadata": {},
   "outputs": [],
   "source": [
    "df3['idade'] = df3['idade'].astype(int)"
   ]
  },
  {
   "cell_type": "code",
   "execution_count": 54,
   "id": "f5f9c8a9",
   "metadata": {},
   "outputs": [
    {
     "data": {
      "text/html": [
       "<div>\n",
       "<style scoped>\n",
       "    .dataframe tbody tr th:only-of-type {\n",
       "        vertical-align: middle;\n",
       "    }\n",
       "\n",
       "    .dataframe tbody tr th {\n",
       "        vertical-align: top;\n",
       "    }\n",
       "\n",
       "    .dataframe thead th {\n",
       "        text-align: right;\n",
       "    }\n",
       "</style>\n",
       "<table border=\"1\" class=\"dataframe\">\n",
       "  <thead>\n",
       "    <tr style=\"text-align: right;\">\n",
       "      <th></th>\n",
       "      <th>idade</th>\n",
       "      <th>genero</th>\n",
       "      <th>etnia</th>\n",
       "      <th>pcd</th>\n",
       "      <th>vive_no_brasil</th>\n",
       "      <th>estado_moradia</th>\n",
       "      <th>nivel_ensino</th>\n",
       "      <th>formacao</th>\n",
       "      <th>tempo_experiencia_dados</th>\n",
       "      <th>linguagens_preferidas</th>\n",
       "      <th>bancos_de_dados</th>\n",
       "      <th>cloud_preferida</th>\n",
       "      <th>cargo</th>\n",
       "    </tr>\n",
       "  </thead>\n",
       "  <tbody>\n",
       "    <tr>\n",
       "      <th>0</th>\n",
       "      <td>39</td>\n",
       "      <td>Masculino</td>\n",
       "      <td>Parda</td>\n",
       "      <td>Não</td>\n",
       "      <td>True</td>\n",
       "      <td>Distrito Federal (DF)</td>\n",
       "      <td>Pós-graduação</td>\n",
       "      <td>Computação / Engenharia de Software / Sistemas...</td>\n",
       "      <td>de 1 a 2 anos</td>\n",
       "      <td>r</td>\n",
       "      <td>postgresql, oracle, mysql, sql server</td>\n",
       "      <td>Amazon Web Services (AWS)</td>\n",
       "      <td>DBA/Administrador de Banco de Dados</td>\n",
       "    </tr>\n",
       "    <tr>\n",
       "      <th>1</th>\n",
       "      <td>53</td>\n",
       "      <td>Masculino</td>\n",
       "      <td>Branca</td>\n",
       "      <td>Não</td>\n",
       "      <td>True</td>\n",
       "      <td>Distrito Federal (DF)</td>\n",
       "      <td>Pós-graduação</td>\n",
       "      <td>Computação / Engenharia de Software / Sistemas...</td>\n",
       "      <td>de 3 a 4 anos</td>\n",
       "      <td>python</td>\n",
       "      <td>postgresql, mysql, oracle, db2</td>\n",
       "      <td>Amazon Web Services (AWS)</td>\n",
       "      <td>Desenvolvedor/ Engenheiro de Software/ Analist...</td>\n",
       "    </tr>\n",
       "    <tr>\n",
       "      <th>2</th>\n",
       "      <td>27</td>\n",
       "      <td>Masculino</td>\n",
       "      <td>Branca</td>\n",
       "      <td>Não</td>\n",
       "      <td>True</td>\n",
       "      <td>Minas Gerais (MG)</td>\n",
       "      <td>Doutorado ou Phd</td>\n",
       "      <td>Estatística/ Matemática / Matemática Computaci...</td>\n",
       "      <td>de 4 a 6 anos</td>\n",
       "      <td>python</td>\n",
       "      <td>google bigquery</td>\n",
       "      <td>Não sei opinar</td>\n",
       "      <td>Cientista de Dados/Data Scientist</td>\n",
       "    </tr>\n",
       "    <tr>\n",
       "      <th>3</th>\n",
       "      <td>46</td>\n",
       "      <td>Feminino</td>\n",
       "      <td>Branca</td>\n",
       "      <td>Não</td>\n",
       "      <td>True</td>\n",
       "      <td>Pará (PA)</td>\n",
       "      <td>Pós-graduação</td>\n",
       "      <td>Computação / Engenharia de Software / Sistemas...</td>\n",
       "      <td>Não tenho experiência na área de dados</td>\n",
       "      <td>python</td>\n",
       "      <td>microsoft access</td>\n",
       "      <td>Amazon Web Services (AWS)</td>\n",
       "      <td>Desenvolvedor/ Engenheiro de Software/ Analist...</td>\n",
       "    </tr>\n",
       "    <tr>\n",
       "      <th>4</th>\n",
       "      <td>32</td>\n",
       "      <td>Feminino</td>\n",
       "      <td>Parda</td>\n",
       "      <td>Não</td>\n",
       "      <td>True</td>\n",
       "      <td>Ceará (CE)</td>\n",
       "      <td>Pós-graduação</td>\n",
       "      <td>Ciências Biológicas/ Farmácia/ Medicina/ Área ...</td>\n",
       "      <td>Não tenho experiência na área de dados</td>\n",
       "      <td>python</td>\n",
       "      <td>google bigquery</td>\n",
       "      <td>Google Cloud (GCP)</td>\n",
       "      <td>Professor</td>\n",
       "    </tr>\n",
       "    <tr>\n",
       "      <th>...</th>\n",
       "      <td>...</td>\n",
       "      <td>...</td>\n",
       "      <td>...</td>\n",
       "      <td>...</td>\n",
       "      <td>...</td>\n",
       "      <td>...</td>\n",
       "      <td>...</td>\n",
       "      <td>...</td>\n",
       "      <td>...</td>\n",
       "      <td>...</td>\n",
       "      <td>...</td>\n",
       "      <td>...</td>\n",
       "      <td>...</td>\n",
       "    </tr>\n",
       "    <tr>\n",
       "      <th>2976</th>\n",
       "      <td>28</td>\n",
       "      <td>Masculino</td>\n",
       "      <td>Branca</td>\n",
       "      <td>Não</td>\n",
       "      <td>True</td>\n",
       "      <td>Paraná (PR)</td>\n",
       "      <td>Graduação/Bacharelado</td>\n",
       "      <td>Computação / Engenharia de Software / Sistemas...</td>\n",
       "      <td>de 3 a 4 anos</td>\n",
       "      <td>julia</td>\n",
       "      <td>sqlite</td>\n",
       "      <td>Azure (Microsoft)</td>\n",
       "      <td>Analista de Marketing</td>\n",
       "    </tr>\n",
       "    <tr>\n",
       "      <th>2977</th>\n",
       "      <td>26</td>\n",
       "      <td>Masculino</td>\n",
       "      <td>Branca</td>\n",
       "      <td>Não</td>\n",
       "      <td>True</td>\n",
       "      <td>São Paulo (SP)</td>\n",
       "      <td>Graduação/Bacharelado</td>\n",
       "      <td>Computação / Engenharia de Software / Sistemas...</td>\n",
       "      <td>de 3 a 4 anos</td>\n",
       "      <td>python</td>\n",
       "      <td>postgresql, oracle, mariadb, hbase, mysql</td>\n",
       "      <td>Não sei opinar</td>\n",
       "      <td>Analista de Dados/Data Analyst</td>\n",
       "    </tr>\n",
       "    <tr>\n",
       "      <th>2978</th>\n",
       "      <td>30</td>\n",
       "      <td>Feminino</td>\n",
       "      <td>Branca</td>\n",
       "      <td>Não</td>\n",
       "      <td>True</td>\n",
       "      <td>Minas Gerais (MG)</td>\n",
       "      <td>Mestrado</td>\n",
       "      <td>Outras Engenharias</td>\n",
       "      <td>de 1 a 2 anos</td>\n",
       "      <td>python</td>\n",
       "      <td>sql server, sap hana</td>\n",
       "      <td>Azure (Microsoft)</td>\n",
       "      <td>Engenheiro de Dados/Arquiteto de Dados/Data En...</td>\n",
       "    </tr>\n",
       "    <tr>\n",
       "      <th>2979</th>\n",
       "      <td>31</td>\n",
       "      <td>Masculino</td>\n",
       "      <td>Branca</td>\n",
       "      <td>Não</td>\n",
       "      <td>True</td>\n",
       "      <td>São Paulo (SP)</td>\n",
       "      <td>Não tenho graduação formal</td>\n",
       "      <td>Prefiro não informar</td>\n",
       "      <td>Menos de 1 ano</td>\n",
       "      <td>python</td>\n",
       "      <td>microsoft access, oracle</td>\n",
       "      <td>Azure (Microsoft)</td>\n",
       "      <td>Outra Opção</td>\n",
       "    </tr>\n",
       "    <tr>\n",
       "      <th>2980</th>\n",
       "      <td>24</td>\n",
       "      <td>Masculino</td>\n",
       "      <td>Branca</td>\n",
       "      <td>Não</td>\n",
       "      <td>True</td>\n",
       "      <td>Goiás (GO)</td>\n",
       "      <td>Graduação/Bacharelado</td>\n",
       "      <td>Computação / Engenharia de Software / Sistemas...</td>\n",
       "      <td>de 1 a 2 anos</td>\n",
       "      <td>python</td>\n",
       "      <td>oracle, firebird, sql server</td>\n",
       "      <td>Amazon Web Services (AWS)</td>\n",
       "      <td>Analista de Dados/Data Analyst</td>\n",
       "    </tr>\n",
       "  </tbody>\n",
       "</table>\n",
       "<p>2981 rows × 13 columns</p>\n",
       "</div>"
      ],
      "text/plain": [
       "      idade     genero   etnia  pcd  vive_no_brasil         estado_moradia  \\\n",
       "0        39  Masculino   Parda  Não            True  Distrito Federal (DF)   \n",
       "1        53  Masculino  Branca  Não            True  Distrito Federal (DF)   \n",
       "2        27  Masculino  Branca  Não            True      Minas Gerais (MG)   \n",
       "3        46   Feminino  Branca  Não            True              Pará (PA)   \n",
       "4        32   Feminino   Parda  Não            True             Ceará (CE)   \n",
       "...     ...        ...     ...  ...             ...                    ...   \n",
       "2976     28  Masculino  Branca  Não            True            Paraná (PR)   \n",
       "2977     26  Masculino  Branca  Não            True         São Paulo (SP)   \n",
       "2978     30   Feminino  Branca  Não            True      Minas Gerais (MG)   \n",
       "2979     31  Masculino  Branca  Não            True         São Paulo (SP)   \n",
       "2980     24  Masculino  Branca  Não            True             Goiás (GO)   \n",
       "\n",
       "                    nivel_ensino  \\\n",
       "0                  Pós-graduação   \n",
       "1                  Pós-graduação   \n",
       "2               Doutorado ou Phd   \n",
       "3                  Pós-graduação   \n",
       "4                  Pós-graduação   \n",
       "...                          ...   \n",
       "2976       Graduação/Bacharelado   \n",
       "2977       Graduação/Bacharelado   \n",
       "2978                    Mestrado   \n",
       "2979  Não tenho graduação formal   \n",
       "2980       Graduação/Bacharelado   \n",
       "\n",
       "                                               formacao  \\\n",
       "0     Computação / Engenharia de Software / Sistemas...   \n",
       "1     Computação / Engenharia de Software / Sistemas...   \n",
       "2     Estatística/ Matemática / Matemática Computaci...   \n",
       "3     Computação / Engenharia de Software / Sistemas...   \n",
       "4     Ciências Biológicas/ Farmácia/ Medicina/ Área ...   \n",
       "...                                                 ...   \n",
       "2976  Computação / Engenharia de Software / Sistemas...   \n",
       "2977  Computação / Engenharia de Software / Sistemas...   \n",
       "2978                                 Outras Engenharias   \n",
       "2979                               Prefiro não informar   \n",
       "2980  Computação / Engenharia de Software / Sistemas...   \n",
       "\n",
       "                     tempo_experiencia_dados linguagens_preferidas  \\\n",
       "0                              de 1 a 2 anos                     r   \n",
       "1                              de 3 a 4 anos                python   \n",
       "2                              de 4 a 6 anos                python   \n",
       "3     Não tenho experiência na área de dados                python   \n",
       "4     Não tenho experiência na área de dados                python   \n",
       "...                                      ...                   ...   \n",
       "2976                           de 3 a 4 anos                 julia   \n",
       "2977                           de 3 a 4 anos                python   \n",
       "2978                           de 1 a 2 anos                python   \n",
       "2979                          Menos de 1 ano                python   \n",
       "2980                           de 1 a 2 anos                python   \n",
       "\n",
       "                                bancos_de_dados            cloud_preferida  \\\n",
       "0         postgresql, oracle, mysql, sql server  Amazon Web Services (AWS)   \n",
       "1                postgresql, mysql, oracle, db2  Amazon Web Services (AWS)   \n",
       "2                               google bigquery             Não sei opinar   \n",
       "3                              microsoft access  Amazon Web Services (AWS)   \n",
       "4                               google bigquery         Google Cloud (GCP)   \n",
       "...                                         ...                        ...   \n",
       "2976                                     sqlite          Azure (Microsoft)   \n",
       "2977  postgresql, oracle, mariadb, hbase, mysql             Não sei opinar   \n",
       "2978                       sql server, sap hana          Azure (Microsoft)   \n",
       "2979                   microsoft access, oracle          Azure (Microsoft)   \n",
       "2980               oracle, firebird, sql server  Amazon Web Services (AWS)   \n",
       "\n",
       "                                                  cargo  \n",
       "0                   DBA/Administrador de Banco de Dados  \n",
       "1     Desenvolvedor/ Engenheiro de Software/ Analist...  \n",
       "2                     Cientista de Dados/Data Scientist  \n",
       "3     Desenvolvedor/ Engenheiro de Software/ Analist...  \n",
       "4                                             Professor  \n",
       "...                                                 ...  \n",
       "2976                              Analista de Marketing  \n",
       "2977                     Analista de Dados/Data Analyst  \n",
       "2978  Engenheiro de Dados/Arquiteto de Dados/Data En...  \n",
       "2979                                        Outra Opção  \n",
       "2980                     Analista de Dados/Data Analyst  \n",
       "\n",
       "[2981 rows x 13 columns]"
      ]
     },
     "execution_count": 54,
     "metadata": {},
     "output_type": "execute_result"
    }
   ],
   "source": [
    "df3"
   ]
  },
  {
   "cell_type": "markdown",
   "id": "086b66c7",
   "metadata": {},
   "source": [
    "# FAZENDO GRAFICOS"
   ]
  },
  {
   "cell_type": "code",
   "execution_count": 55,
   "id": "1c801f52",
   "metadata": {},
   "outputs": [
    {
     "data": {
      "image/png": "[encoded data removed]",
      "text/plain": [
       "<Figure size 900x600 with 1 Axes>"
      ]
     },
     "metadata": {},
     "output_type": "display_data"
    },
    {
     "data": {
      "image/png": "[encoded data removed]",
      "text/plain": [
       "<Figure size 1000x500 with 2 Axes>"
      ]
     },
     "metadata": {},
     "output_type": "display_data"
    },
    {
     "data": {
      "image/png": "[encoded data removed]",
      "text/plain": [
       "<Figure size 1400x600 with 2 Axes>"
      ]
     },
     "metadata": {},
     "output_type": "display_data"
    }
   ],
   "source": [
    "# Usar seu DataFrame real\n",
    "df = df3.copy()\n",
    "\n",
    "# ----------  Top N linguagens ----------\n",
    "top_linguagens = df['linguagens_preferidas'].value_counts().nlargest(10).index\n",
    "df['linguagem_top'] = df['linguagens_preferidas'].where(\n",
    "    df['linguagens_preferidas'].isin(top_linguagens), other=\"Outras\"\n",
    ")\n",
    "\n",
    "plt.figure(figsize=(9,6))\n",
    "sns.set_theme(style=\"whitegrid\")\n",
    "sns.countplot(data=df, y=\"linguagem_top\", hue=\"genero\",palette={\"Masculino\":\"#1f77b4\",\"Feminino\":\"#ff7f0e\",\"Prefiro não informar\":\"#29af25e6\"}\n",
    ")\n",
    "plt.title(\"Top 10 Linguagens por Gênero\", fontsize=16)\n",
    "plt.xlabel(\"Quantidade\")\n",
    "plt.ylabel(\"Linguagem\")\n",
    "plt.xlim(0, 1000)  # limite ajustado\n",
    "plt.legend(title=\"Gênero\")\n",
    "plt.tight_layout()\n",
    "plt.show()\n",
    "\n",
    "# ----------  Heatmap de frequência ----------\n",
    "contagem = df.groupby(['genero','linguagem_top']).size().unstack(fill_value=0)\n",
    "\n",
    "plt.figure(figsize=(10,5))\n",
    "sns.heatmap(\n",
    "    contagem, annot=True, fmt=\"d\", cmap=\"YlGnBu\",\n",
    "    vmin=0, vmax=1000, cbar_kws={'label': 'Contagem'}\n",
    ")\n",
    "plt.title(\"Frequência de Linguagens por Gênero\", fontsize=16)\n",
    "plt.ylabel(\"Gênero\")\n",
    "plt.xlabel(\"Linguagem\")\n",
    "plt.tight_layout()\n",
    "plt.show()\n",
    "\n",
    "# ----------  Wordclouds lado a lado ----------\n",
    "texto_m = \" \".join(df[df['genero']==\"Masculino\"]['linguagens_preferidas'].dropna().astype(str))\n",
    "wordcloud_m = WordCloud(\n",
    "    width=600, height=300, background_color=\"white\",\n",
    "    colormap=\"Blues\", collocations=False\n",
    ").generate(texto_m)\n",
    "\n",
    "texto_f = \" \".join(df[df['genero']==\"Feminino\"]['linguagens_preferidas'].dropna().astype(str))\n",
    "wordcloud_f = WordCloud(\n",
    "    width=600, height=300, background_color=\"white\",\n",
    "    colormap=\"Reds\", collocations=False\n",
    ").generate(texto_f)\n",
    "\n",
    "plt.figure(figsize=(14,6))\n",
    "plt.subplot(1,2,1)\n",
    "plt.imshow(wordcloud_m, interpolation=\"bilinear\")\n",
    "plt.axis(\"off\")\n",
    "plt.title(\"Masculino\", fontsize=14)\n",
    "\n",
    "plt.subplot(1,2,2)\n",
    "plt.imshow(wordcloud_f, interpolation=\"bilinear\")\n",
    "plt.axis(\"off\")\n",
    "plt.title(\"Feminino\", fontsize=14)\n",
    "\n",
    "plt.tight_layout()\n",
    "plt.show()\n"
   ]
  },
  {
   "cell_type": "markdown",
   "id": "24ae29aa",
   "metadata": {},
   "source": [
    "SALVANDO TODAS AS ALTERAÇÕES EM UM NOVO ARQUIVO E DROPANDO A COLUNA CRIADA PRA VERIFICAR AS LINGUAGENS MAIS POPULARES"
   ]
  },
  {
   "cell_type": "code",
   "execution_count": 56,
   "id": "ec0d9df3",
   "metadata": {},
   "outputs": [],
   "source": [
    "df = df.drop(columns='linguagem_top')\n",
    "\n",
    "df.to_excel('sods_limpo.xlsx', index=False)"
   ]
  }
 ],
 "metadata": {
  "kernelspec": {
   "display_name": "venv_novo",
   "language": "python",
   "name": "python3"
  },
  "language_info": {
   "codemirror_mode": {
    "name": "ipython",
    "version": 3
   },
   "file_extension": ".py",
   "mimetype": "text/x-python",
   "name": "python",
   "nbconvert_exporter": "python",
   "pygments_lexer": "ipython3",
   "version": "3.12.1"
  }
 },
 "nbformat": 4,
 "nbformat_minor": 5
}
